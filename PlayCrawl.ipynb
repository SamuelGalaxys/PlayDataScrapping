{
  "nbformat": 4,
  "nbformat_minor": 0,
  "metadata": {
    "colab": {
      "provenance": [],
      "include_colab_link": true
    },
    "kernelspec": {
      "name": "python3",
      "display_name": "Python 3"
    },
    "language_info": {
      "name": "python"
    }
  },
  "cells": [
    {
      "cell_type": "markdown",
      "metadata": {
        "id": "view-in-github",
        "colab_type": "text"
      },
      "source": [
        "<a href=\"https://colab.research.google.com/github/SamuelGalaxys/PlayDataScrapping/blob/main/PlayCrawl.ipynb\" target=\"_parent\"><img src=\"https://colab.research.google.com/assets/colab-badge.svg\" alt=\"Open In Colab\"/></a>"
      ]
    },
    {
      "cell_type": "markdown",
      "source": [
        "![share_google_play_logo.png](data:image/png;base64,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)\n",
        "\n",
        "# **Google Play 리뷰 데이터 스크래핑**\n",
        "\n",
        "### By Kihoon Kim\n",
        "\n",
        "2024년 빅데이터의사결정분석 김기훈 박시현 전우빈 김민주 류기훈"
      ],
      "metadata": {
        "id": "U7QTwgnnD7mf"
      }
    },
    {
      "cell_type": "code",
      "source": [
        "pip install requests beautifulsoup4\n"
      ],
      "metadata": {
        "colab": {
          "base_uri": "https://localhost:8080/"
        },
        "id": "WBT5Ip1kDFfo",
        "outputId": "c017476e-98bf-474f-eb87-30ffd305d20d"
      },
      "execution_count": null,
      "outputs": [
        {
          "output_type": "stream",
          "name": "stdout",
          "text": [
            "Requirement already satisfied: requests in /usr/local/lib/python3.10/dist-packages (2.31.0)\n",
            "Requirement already satisfied: beautifulsoup4 in /usr/local/lib/python3.10/dist-packages (4.12.3)\n",
            "Requirement already satisfied: charset-normalizer<4,>=2 in /usr/local/lib/python3.10/dist-packages (from requests) (3.3.2)\n",
            "Requirement already satisfied: idna<4,>=2.5 in /usr/local/lib/python3.10/dist-packages (from requests) (3.7)\n",
            "Requirement already satisfied: urllib3<3,>=1.21.1 in /usr/local/lib/python3.10/dist-packages (from requests) (2.0.7)\n",
            "Requirement already satisfied: certifi>=2017.4.17 in /usr/local/lib/python3.10/dist-packages (from requests) (2024.2.2)\n",
            "Requirement already satisfied: soupsieve>1.2 in /usr/local/lib/python3.10/dist-packages (from beautifulsoup4) (2.5)\n"
          ]
        }
      ]
    },
    {
      "cell_type": "code",
      "execution_count": null,
      "metadata": {
        "colab": {
          "base_uri": "https://localhost:8080/"
        },
        "id": "h5_q9rcCgESv",
        "outputId": "9b3719ca-bc21-40b5-f7df-f845ad11d161"
      },
      "outputs": [
        {
          "output_type": "stream",
          "name": "stdout",
          "text": [
            "Collecting google_play_scraper\n",
            "  Downloading google_play_scraper-1.2.6-py3-none-any.whl (28 kB)\n",
            "Installing collected packages: google_play_scraper\n",
            "Successfully installed google_play_scraper-1.2.6\n"
          ]
        }
      ],
      "source": [
        "# google_play_scraper 라이브러리 설치: 구글 플레이스토어에서 데이터를 쉽게 가져올 수 있게 해줍니다.\n",
        "!pip install google_play_scraper"
      ]
    },
    {
      "cell_type": "code",
      "source": [
        "from google_play_scraper import reviews_all\n",
        "from datetime import datetime\n",
        "import pandas as pd\n",
        "from google.colab import drive\n",
        "import time\n",
        "from random import randint\n",
        "from IPython.display import display, HTML\n",
        "\n",
        "def get_package_name():\n",
        "    package_name = input(\"앱의 패키지명을 입력하세요 (예: com.example.app): \")\n",
        "    return package_name.strip()  # 앞뒤 공백 제거\n",
        "\n",
        "package_name = get_package_name()\n",
        "\n",
        "lang = 'ko'\n",
        "\n",
        "cont = 'kr'\n",
        "\n",
        "result = reviews_all(\n",
        "    package_name,\n",
        "    lang=lang,  # 리뷰의 언어를 설정합니다. 여기서는 위에서 설정한 'ko'(한국어)입니다.\n",
        "    country=cont,  # 리뷰를 가져올 국가를 설정합니다. 여기서는 위에서 설정한 'kr'(한국)입니다.\n",
        "    count=None  # 모든 리뷰를 가져오도록 설정합니다.\n",
        ")\n",
        "\n",
        "# 수집된 리뷰 데이터를 저장할 리스트 초기화\n",
        "reviews_data = []\n",
        "\n",
        "# 수집된 리뷰에 대해 반복하며 필요한 정보를 리스트에 저장\n",
        "for item in result:\n",
        "    # 리뷰 정보를 딕셔너리 형태로 저장\n",
        "    review = {\n",
        "        'score': item['score'],\n",
        "        '리뷰내용': item['content'],\n",
        "        '작성시간': item['at'],\n",
        "        '사용자ID': item['userName'],\n",
        "        '리뷰추천수': item['thumbsUpCount']  # 추가: 이 리뷰를 유용하다고 생각한 사람들의 수\n",
        "    }\n",
        "    reviews_data.append(review)\n",
        "\n",
        "    # 요청 사이에 랜덤한 시간 지연 추가 (1초 ~ 5초 사이의 랜덤한 시간)\n",
        "    delay = randint(0, 1)\n",
        "    time.sleep(delay)\n",
        "\n",
        "# 리스트를 pandas DataFrame으로 변환\n",
        "df_reviews = pd.DataFrame(reviews_data)\n",
        "\n",
        "# 별점을 기준으로 내림차순 정렬\n",
        "df_reviews = df_reviews.sort_values(by='score', ascending=False)\n",
        "\n",
        "# Google 드라이브에 마운트\n",
        "drive.mount('/content/drive')\n",
        "\n",
        "# Google 드라이브 경로 설정\n",
        "drive_path = '/content/drive/My Drive/GooglePlayCrawl/'\n",
        "\n",
        "# 저장될 파일 이름을 패키지명으로 설정\n",
        "csv_filename = f\"스토어리뷰_{package_name.replace('.', '_')}_크롤링.csv\"\n",
        "\n",
        "# 파일을 Google 드라이브에 저장\n",
        "df_reviews.to_csv(drive_path + csv_filename, index=False, encoding='utf-8-sig')\n",
        "\n",
        "print(f'All reviews saved to {drive_path + csv_filename}')\n"
      ],
      "metadata": {
        "id": "TEEYMP6YFvkm",
        "colab": {
          "base_uri": "https://localhost:8080/"
        },
        "outputId": "58ae65ee-425c-4432-acbf-706fe20f71b5"
      },
      "execution_count": null,
      "outputs": [
        {
          "output_type": "stream",
          "name": "stdout",
          "text": [
            "앱의 패키지명을 입력하세요 (예: com.example.app): com.kiwoom.heromts\n",
            "Drive already mounted at /content/drive; to attempt to forcibly remount, call drive.mount(\"/content/drive\", force_remount=True).\n",
            "All reviews saved to /content/drive/My Drive/GooglePlayCrawl/스토어리뷰_com_kiwoom_heromts_크롤링.csv\n"
          ]
        }
      ]
    },
    {
      "cell_type": "markdown",
      "source": [
        "# 아래 기능은 현재 테스트 중입니다."
      ],
      "metadata": {
        "id": "89o4QeavEjrt"
      }
    },
    {
      "cell_type": "code",
      "source": [
        "from google_play_scraper import reviews_all\n",
        "from datetime import datetime, timedelta\n",
        "import pandas as pd\n",
        "from google.colab import drive\n",
        "import time\n",
        "from random import randint\n",
        "from IPython.display import display, HTML\n",
        "\n",
        "def get_package_name():\n",
        "    package_name = input(\"앱의 패키지명을 입력: \")\n",
        "    return package_name.strip()  # 앞뒤 공백 제거\n",
        "package_name = get_package_name()\n",
        "lang = 'ko'\n",
        "cont = 'kr'\n",
        "one_year_ago = datetime.now() - timedelta(days=365)\n",
        "\n",
        "result = reviews_all(\n",
        "    package_name,\n",
        "    lang=lang,\n",
        "    country=cont,\n",
        "    count=None\n",
        ")\n",
        "\n",
        "reviews_data = []\n",
        "for item in result:\n",
        "    review_date = item['at']\n",
        "    if review_date >= one_year_ago:\n",
        "        review = {\n",
        "            'score': item['score'],\n",
        "            '리뷰내용': item['content'],\n",
        "            '작성시간': review_date,\n",
        "            '사용자ID': item['userName'],\n",
        "            '리뷰추천수': item['thumbsUpCount']\n",
        "        }\n",
        "        reviews_data.append(review)\n",
        "        processer = randint(1, 3)\n",
        "    time.sleep(processer)\n",
        "\n",
        "\n",
        "\n",
        "df_reviews = pd.DataFrame(reviews_data)\n",
        "df_reviews = df_reviews.sort_values(by='score', ascending=False)\n",
        "drive.mount('/content/drive')\n",
        "drive_path = '/content/drive/My Drive/GooglePlayCrawl/'\n",
        "csv_filename = f\"스토어리뷰_{package_name.replace('.', '_')}_최근1년_크롤링.csv\"\n",
        "df_reviews.to_csv(drive_path + csv_filename, index=False, encoding='utf-8-sig')\n",
        "print(f'All reviews from the past year saved to {drive_path + csv_filename}')\n"
      ],
      "metadata": {
        "colab": {
          "base_uri": "https://localhost:8080/",
          "height": 383
        },
        "id": "p1CjVG50_Kma",
        "outputId": "0ddadce7-3125-43f3-bed3-cf7eb2d2614e"
      },
      "execution_count": null,
      "outputs": [
        {
          "name": "stdout",
          "output_type": "stream",
          "text": [
            "앱의 패키지명을 입력: com.samsungpop.android.mpop\n"
          ]
        },
        {
          "output_type": "error",
          "ename": "MessageError",
          "evalue": "Error: credential propagation was unsuccessful",
          "traceback": [
            "\u001b[0;31m---------------------------------------------------------------------------\u001b[0m",
            "\u001b[0;31mMessageError\u001b[0m                              Traceback (most recent call last)",
            "\u001b[0;32m<ipython-input-9-27ad1d87801c>\u001b[0m in \u001b[0;36m<cell line: 41>\u001b[0;34m()\u001b[0m\n\u001b[1;32m     39\u001b[0m \u001b[0mdf_reviews\u001b[0m \u001b[0;34m=\u001b[0m \u001b[0mpd\u001b[0m\u001b[0;34m.\u001b[0m\u001b[0mDataFrame\u001b[0m\u001b[0;34m(\u001b[0m\u001b[0mreviews_data\u001b[0m\u001b[0;34m)\u001b[0m\u001b[0;34m\u001b[0m\u001b[0;34m\u001b[0m\u001b[0m\n\u001b[1;32m     40\u001b[0m \u001b[0mdf_reviews\u001b[0m \u001b[0;34m=\u001b[0m \u001b[0mdf_reviews\u001b[0m\u001b[0;34m.\u001b[0m\u001b[0msort_values\u001b[0m\u001b[0;34m(\u001b[0m\u001b[0mby\u001b[0m\u001b[0;34m=\u001b[0m\u001b[0;34m'score'\u001b[0m\u001b[0;34m,\u001b[0m \u001b[0mascending\u001b[0m\u001b[0;34m=\u001b[0m\u001b[0;32mFalse\u001b[0m\u001b[0;34m)\u001b[0m\u001b[0;34m\u001b[0m\u001b[0;34m\u001b[0m\u001b[0m\n\u001b[0;32m---> 41\u001b[0;31m \u001b[0mdrive\u001b[0m\u001b[0;34m.\u001b[0m\u001b[0mmount\u001b[0m\u001b[0;34m(\u001b[0m\u001b[0;34m'/content/drive'\u001b[0m\u001b[0;34m)\u001b[0m\u001b[0;34m\u001b[0m\u001b[0;34m\u001b[0m\u001b[0m\n\u001b[0m\u001b[1;32m     42\u001b[0m \u001b[0mdrive_path\u001b[0m \u001b[0;34m=\u001b[0m \u001b[0;34m'/content/drive/My Drive/GooglePlayCrawl/'\u001b[0m\u001b[0;34m\u001b[0m\u001b[0;34m\u001b[0m\u001b[0m\n\u001b[1;32m     43\u001b[0m \u001b[0mcsv_filename\u001b[0m \u001b[0;34m=\u001b[0m \u001b[0;34mf\"스토어리뷰_{package_name.replace('.', '_')}_최근1년_크롤링.csv\"\u001b[0m\u001b[0;34m\u001b[0m\u001b[0;34m\u001b[0m\u001b[0m\n",
            "\u001b[0;32m/usr/local/lib/python3.10/dist-packages/google/colab/drive.py\u001b[0m in \u001b[0;36mmount\u001b[0;34m(mountpoint, force_remount, timeout_ms, readonly)\u001b[0m\n\u001b[1;32m     98\u001b[0m \u001b[0;32mdef\u001b[0m \u001b[0mmount\u001b[0m\u001b[0;34m(\u001b[0m\u001b[0mmountpoint\u001b[0m\u001b[0;34m,\u001b[0m \u001b[0mforce_remount\u001b[0m\u001b[0;34m=\u001b[0m\u001b[0;32mFalse\u001b[0m\u001b[0;34m,\u001b[0m \u001b[0mtimeout_ms\u001b[0m\u001b[0;34m=\u001b[0m\u001b[0;36m120000\u001b[0m\u001b[0;34m,\u001b[0m \u001b[0mreadonly\u001b[0m\u001b[0;34m=\u001b[0m\u001b[0;32mFalse\u001b[0m\u001b[0;34m)\u001b[0m\u001b[0;34m:\u001b[0m\u001b[0;34m\u001b[0m\u001b[0;34m\u001b[0m\u001b[0m\n\u001b[1;32m     99\u001b[0m   \u001b[0;34m\"\"\"Mount your Google Drive at the specified mountpoint path.\"\"\"\u001b[0m\u001b[0;34m\u001b[0m\u001b[0;34m\u001b[0m\u001b[0m\n\u001b[0;32m--> 100\u001b[0;31m   return _mount(\n\u001b[0m\u001b[1;32m    101\u001b[0m       \u001b[0mmountpoint\u001b[0m\u001b[0;34m,\u001b[0m\u001b[0;34m\u001b[0m\u001b[0;34m\u001b[0m\u001b[0m\n\u001b[1;32m    102\u001b[0m       \u001b[0mforce_remount\u001b[0m\u001b[0;34m=\u001b[0m\u001b[0mforce_remount\u001b[0m\u001b[0;34m,\u001b[0m\u001b[0;34m\u001b[0m\u001b[0;34m\u001b[0m\u001b[0m\n",
            "\u001b[0;32m/usr/local/lib/python3.10/dist-packages/google/colab/drive.py\u001b[0m in \u001b[0;36m_mount\u001b[0;34m(mountpoint, force_remount, timeout_ms, ephemeral, readonly)\u001b[0m\n\u001b[1;32m    131\u001b[0m   )\n\u001b[1;32m    132\u001b[0m   \u001b[0;32mif\u001b[0m \u001b[0mephemeral\u001b[0m\u001b[0;34m:\u001b[0m\u001b[0;34m\u001b[0m\u001b[0;34m\u001b[0m\u001b[0m\n\u001b[0;32m--> 133\u001b[0;31m     _message.blocking_request(\n\u001b[0m\u001b[1;32m    134\u001b[0m         \u001b[0;34m'request_auth'\u001b[0m\u001b[0;34m,\u001b[0m\u001b[0;34m\u001b[0m\u001b[0;34m\u001b[0m\u001b[0m\n\u001b[1;32m    135\u001b[0m         \u001b[0mrequest\u001b[0m\u001b[0;34m=\u001b[0m\u001b[0;34m{\u001b[0m\u001b[0;34m'authType'\u001b[0m\u001b[0;34m:\u001b[0m \u001b[0;34m'dfs_ephemeral'\u001b[0m\u001b[0;34m}\u001b[0m\u001b[0;34m,\u001b[0m\u001b[0;34m\u001b[0m\u001b[0;34m\u001b[0m\u001b[0m\n",
            "\u001b[0;32m/usr/local/lib/python3.10/dist-packages/google/colab/_message.py\u001b[0m in \u001b[0;36mblocking_request\u001b[0;34m(request_type, request, timeout_sec, parent)\u001b[0m\n\u001b[1;32m    174\u001b[0m       \u001b[0mrequest_type\u001b[0m\u001b[0;34m,\u001b[0m \u001b[0mrequest\u001b[0m\u001b[0;34m,\u001b[0m \u001b[0mparent\u001b[0m\u001b[0;34m=\u001b[0m\u001b[0mparent\u001b[0m\u001b[0;34m,\u001b[0m \u001b[0mexpect_reply\u001b[0m\u001b[0;34m=\u001b[0m\u001b[0;32mTrue\u001b[0m\u001b[0;34m\u001b[0m\u001b[0;34m\u001b[0m\u001b[0m\n\u001b[1;32m    175\u001b[0m   )\n\u001b[0;32m--> 176\u001b[0;31m   \u001b[0;32mreturn\u001b[0m \u001b[0mread_reply_from_input\u001b[0m\u001b[0;34m(\u001b[0m\u001b[0mrequest_id\u001b[0m\u001b[0;34m,\u001b[0m \u001b[0mtimeout_sec\u001b[0m\u001b[0;34m)\u001b[0m\u001b[0;34m\u001b[0m\u001b[0;34m\u001b[0m\u001b[0m\n\u001b[0m",
            "\u001b[0;32m/usr/local/lib/python3.10/dist-packages/google/colab/_message.py\u001b[0m in \u001b[0;36mread_reply_from_input\u001b[0;34m(message_id, timeout_sec)\u001b[0m\n\u001b[1;32m    101\u001b[0m     ):\n\u001b[1;32m    102\u001b[0m       \u001b[0;32mif\u001b[0m \u001b[0;34m'error'\u001b[0m \u001b[0;32min\u001b[0m \u001b[0mreply\u001b[0m\u001b[0;34m:\u001b[0m\u001b[0;34m\u001b[0m\u001b[0;34m\u001b[0m\u001b[0m\n\u001b[0;32m--> 103\u001b[0;31m         \u001b[0;32mraise\u001b[0m \u001b[0mMessageError\u001b[0m\u001b[0;34m(\u001b[0m\u001b[0mreply\u001b[0m\u001b[0;34m[\u001b[0m\u001b[0;34m'error'\u001b[0m\u001b[0;34m]\u001b[0m\u001b[0;34m)\u001b[0m\u001b[0;34m\u001b[0m\u001b[0;34m\u001b[0m\u001b[0m\n\u001b[0m\u001b[1;32m    104\u001b[0m       \u001b[0;32mreturn\u001b[0m \u001b[0mreply\u001b[0m\u001b[0;34m.\u001b[0m\u001b[0mget\u001b[0m\u001b[0;34m(\u001b[0m\u001b[0;34m'data'\u001b[0m\u001b[0;34m,\u001b[0m \u001b[0;32mNone\u001b[0m\u001b[0;34m)\u001b[0m\u001b[0;34m\u001b[0m\u001b[0;34m\u001b[0m\u001b[0m\n\u001b[1;32m    105\u001b[0m \u001b[0;34m\u001b[0m\u001b[0m\n",
            "\u001b[0;31mMessageError\u001b[0m: Error: credential propagation was unsuccessful"
          ]
        }
      ]
    },
    {
      "cell_type": "code",
      "source": [
        "from google_play_scraper import reviews_all\n",
        "from datetime import datetime\n",
        "import pandas as pd\n",
        "from google.colab import drive\n",
        "from IPython.display import display, HTML\n",
        "\n",
        "# 패키지명을 입력받는 함수\n",
        "def get_package_name():\n",
        "    package_name = input(\"앱의 패키지명을 입력하세요 (예: com.example.app): \")\n",
        "    return package_name.strip()  # 앞뒤 공백 제거\n",
        "\n",
        "# 패키지명 입력 받기\n",
        "package_name = get_package_name()\n",
        "\n",
        "# 'lang'은 리뷰를 가져올 언어를 설정합니다. 여기서는 'ko'로 설정하여 한국어 리뷰를 가져옵니다.\n",
        "lang = 'ko'\n",
        "\n",
        "# 'cont'는 리뷰를 가져올 국가를 설정합니다. 여기서는 'kr'로 설정하여 한국에서의 리뷰를 가져옵니다.\n",
        "cont = 'kr'\n",
        "\n",
        "# reviews_all 함수를 사용해 앱의 모든 리뷰를 가져옵니다. count=None으로 설정하여 모든 리뷰를 가져옵니다.\n",
        "result = reviews_all(\n",
        "    package_name,\n",
        "    lang=lang,  # 리뷰의 언어를 설정합니다. 여기서는 위에서 설정한 'ko'(한국어)입니다.\n",
        "    country=cont,  # 리뷰를 가져올 국가를 설정합니다. 여기서는 위에서 설정한 'kr'(한국)입니다.\n",
        "    count=None  # 모든 리뷰를 가져오도록 설정합니다.\n",
        ")\n",
        "\n",
        "# 수집된 리뷰 데이터를 저장할 리스트 초기화\n",
        "reviews_data = []\n",
        "\n",
        "# 수집된 리뷰에 대해 반복하며 필요한 정보를 리스트에 저장\n",
        "for item in result:\n",
        "    # 리뷰 정보를 딕셔너리 형태로 저장\n",
        "    review = {\n",
        "        'score': item['score'],\n",
        "        '리뷰내용': item['content'],\n",
        "        '작성시간': item['at'],\n",
        "        '사용자ID': item['userName'],\n",
        "        '리뷰추천수': item['thumbsUpCount']  # 추가: 이 리뷰를 유용하다고 생각한 사람들의 수\n",
        "    }\n",
        "    reviews_data.append(review)\n",
        "\n",
        "# 리스트를 pandas DataFrame으로 변환\n",
        "df_reviews = pd.DataFrame(reviews_data)\n",
        "\n",
        "# 별점을 기준으로 내림차순 정렬\n",
        "df_reviews = df_reviews.sort_values(by='score', ascending=False)\n",
        "\n",
        "# Google 드라이브에 마운트\n",
        "drive.mount('/content/drive')\n",
        "\n",
        "# Google 드라이브 경로 설정\n",
        "drive_path = '/content/drive/My Drive/GooglePlayCrawl/'\n",
        "\n",
        "# 저장될 파일 이름을 패키지명으로 설정\n",
        "csv_filename = f\"앱리뷰_{package_name.replace('.', '_')}_크롤링.csv\"\n",
        "\n",
        "# 파일을 Google 드라이브에 저장\n",
        "df_reviews.to_csv(drive_path + csv_filename, index=False, encoding='utf-8-sig')\n",
        "\n",
        "print(f'All reviews saved to {drive_path + csv_filename}')\n"
      ],
      "metadata": {
        "colab": {
          "base_uri": "https://localhost:8080/"
        },
        "id": "Rll8r93GFwL7",
        "outputId": "6352bdbd-5bbc-4e81-93c0-85bf962f0e7c"
      },
      "execution_count": null,
      "outputs": [
        {
          "output_type": "stream",
          "name": "stdout",
          "text": [
            "앱의 패키지명을 입력하세요 (예: com.example.app): com.kiwoom.heromts\n",
            "Drive already mounted at /content/drive; to attempt to forcibly remount, call drive.mount(\"/content/drive\", force_remount=True).\n",
            "All reviews saved to /content/drive/My Drive/GooglePlayCrawl/앱리뷰_com_kiwoom_heromts_크롤링.csv\n"
          ]
        }
      ]
    },
    {
      "cell_type": "markdown",
      "source": [
        "\n",
        "\n",
        "\n",
        "\n",
        "\n",
        "\n",
        "\n",
        "\n",
        "\n",
        "\n",
        "\n",
        "\n"
      ],
      "metadata": {
        "id": "dFFHBsqflRFt"
      }
    },
    {
      "cell_type": "code",
      "source": [
        "from google_play_scraper import reviews_all\n",
        "from datetime import datetime\n",
        "import pandas as pd\n",
        "\n",
        "# 패키지명을 직접 입력할 수 있도록 변수 설정\n",
        "package_name = 'com.samsungpop.android.mpop'\n",
        "\n",
        "# 'lang'은 리뷰를 가져올 언어를 설정합니다. 여기서는 'ko'로 설정하여 한국어 리뷰를 가져옵니다.\n",
        "lang = 'ko'\n",
        "\n",
        "# 'cont'는 리뷰를 가져올 국가를 설정합니다. 여기서는 'kr'로 설정하여 한국에서의 리뷰를 가져옵니다.\n",
        "cont = 'kr'\n",
        "\n",
        "# reviews_all 함수를 사용해 앱의 모든 리뷰를 가져옵니다. count=None으로 설정하여 모든 리뷰를 가져옵니다.\n",
        "result = reviews_all(\n",
        "    package_name,\n",
        "    lang=lang,  # 리뷰의 언어를 설정합니다. 여기서는 위에서 설정한 'ko'(한국어)입니다.\n",
        "    country=cont,  # 리뷰를 가져올 국가를 설정합니다. 여기서는 위에서 설정한 'kr'(한국)입니다.\n",
        "    count=None  # 모든 리뷰를 가져오도록 설정합니다.\n",
        ")\n",
        "\n",
        "# 수집된 리뷰 데이터를 저장할 리스트 초기화\n",
        "reviews_data = []\n",
        "\n",
        "# 수집된 리뷰에 대해 반복하며 필요한 정보를 리스트에 저장\n",
        "for item in result:\n",
        "    # 리뷰 정보를 딕셔너리 형태로 저장\n",
        "    review = {\n",
        "        'date': item['at'],\n",
        "        'userName': item['userName'],\n",
        "        'score': item['score'],\n",
        "        'content': item['content'],\n",
        "        'helpfulCount': item['thumbsUpCount']  # 추가: 이 리뷰를 유용하다고 생각한 사람들의 수\n",
        "    }\n",
        "    reviews_data.append(review)\n",
        "\n",
        "# 리스트를 pandas DataFrame으로 변환\n",
        "df_reviews = pd.DataFrame(reviews_data)\n",
        "\n",
        "# 별점을 기준으로 내림차순 정렬\n",
        "df_reviews = df_reviews.sort_values(by='score', ascending=False)\n",
        "\n",
        "# 리뷰 데이터를 CSV 파일로 저장\n",
        "from google.colab import drive\n",
        "drive.mount('/content/drive')\n",
        "\n",
        "# Google 드라이브 경로 설정\n",
        "drive_path = '/content/drive/My Drive/'\n",
        "\n",
        "# 저장될 파일 이름을 패키지명으로 설정\n",
        "csv_filename = f\"고정리뷰_{package_name.replace('.', '_')}_with_helpful_count.csv\"\n",
        "\n",
        "# 파일을 Google 드라이브에 저장\n",
        "df_reviews.to_csv(drive_path + csv_filename, index=False, encoding='utf-8-sig')\n",
        "\n",
        "print(f'All reviews saved to {drive_path + csv_filename}')\n"
      ],
      "metadata": {
        "colab": {
          "base_uri": "https://localhost:8080/"
        },
        "id": "wNqlkYJcFwPq",
        "outputId": "977d06f6-6203-4b89-f0c6-9ba6305122ff"
      },
      "execution_count": null,
      "outputs": [
        {
          "output_type": "stream",
          "name": "stdout",
          "text": [
            "Drive already mounted at /content/drive; to attempt to forcibly remount, call drive.mount(\"/content/drive\", force_remount=True).\n",
            "All reviews saved to /content/drive/My Drive/고정리뷰_com_samsungpop_android_mpop_with_helpful_count.csv\n"
          ]
        }
      ]
    },
    {
      "cell_type": "code",
      "source": [],
      "metadata": {
        "id": "Io5-wgMPHk5D"
      },
      "execution_count": null,
      "outputs": []
    },
    {
      "cell_type": "code",
      "source": [],
      "metadata": {
        "id": "-07zDz9OHk2Y"
      },
      "execution_count": null,
      "outputs": []
    },
    {
      "cell_type": "code",
      "source": [],
      "metadata": {
        "id": "I7OcFi17HkzU"
      },
      "execution_count": null,
      "outputs": []
    },
    {
      "cell_type": "code",
      "source": [
        "#조상뻘 되는 원조 코드 (오류없음)\n",
        "\n",
        "\n",
        "from google_play_scraper import reviews_all\n",
        "from datetime import datetime\n",
        "import pandas as pd\n",
        "\n",
        "# 'lang'은 리뷰를 가져올 언어를 설정합니다. 여기서는 'ko'로 설정하여 한국어 리뷰를 가져옵니다.\n",
        "lang = 'ko'\n",
        "\n",
        "# 'cont'는 리뷰를 가져올 국가를 설정합니다. 여기서는 'kr'로 설정하여 한국에서의 리뷰를 가져옵니다.\n",
        "cont = 'kr'\n",
        "\n",
        "# reviews_all 함수를 사용해 앱의 모든 리뷰를 가져옵니다. count=None으로 설정하여 모든 리뷰를 가져옵니다.\n",
        "result = reviews_all(\n",
        "    'com.truefriend.neosmartarenewal',\n",
        "    lang=lang,  # 리뷰의 언어를 설정합니다. 여기서는 위에서 설정한 'ko'(한국어)입니다.\n",
        "    country=cont,  # 리뷰를 가져올 국가를 설정합니다. 여기서는 위에서 설정한 'kr'(한국)입니다.\n",
        "    count=None  # 모든 리뷰를 가져오도록 설정합니다.\n",
        ")\n",
        "\n",
        "# 수집된 리뷰 데이터를 저장할 리스트 초기화\n",
        "reviews_data = []\n",
        "\n",
        "# 수집된 리뷰에 대해 반복하며 필요한 정보를 리스트에 저장\n",
        "for item in result:\n",
        "    # 리뷰 정보를 딕셔너리 형태로 저장\n",
        "    review = {\n",
        "        'date': item['at'],\n",
        "        'userName': item['userName'],\n",
        "        'score': item['score'],\n",
        "        'content': item['content'],\n",
        "        'helpfulCount': item['thumbsUpCount']  # 추가: 이 리뷰를 유용하다고 생각한 사람들의 수\n",
        "    }\n",
        "    reviews_data.append(review)\n",
        "\n",
        "# 리스트를 pandas DataFrame으로 변환\n",
        "df_reviews = pd.DataFrame(reviews_data)\n",
        "\n",
        "# 별점을 기준으로 내림차순 정렬\n",
        "df_reviews = df_reviews.sort_values(by='score', ascending=False)\n",
        "\n",
        "# 리뷰 데이터를 CSV 파일로 저장\n",
        "from google.colab import drive\n",
        "drive.mount('/content/drive')\n",
        "\n",
        "# Google 드라이브 경로 설정\n",
        "drive_path = '/content/drive/My Drive/'\n",
        "\n",
        "csv_filename = \"All_Reviews_KihoonCrawlX_with_helpful_count.csv\"  # 확장자를 추가해주세요\n",
        "\n",
        "# 파일을 Google 드라이브에 저장\n",
        "df_reviews.to_csv(drive_path + csv_filename, index=False, encoding='utf-8-sig')\n",
        "\n",
        "print(f'All reviews saved to {drive_path + csv_filename}')\n"
      ],
      "metadata": {
        "colab": {
          "base_uri": "https://localhost:8080/"
        },
        "id": "Ih1gjwe-HktB",
        "outputId": "5a2e2d46-d9bb-4752-857f-1c452773c344"
      },
      "execution_count": null,
      "outputs": [
        {
          "output_type": "stream",
          "name": "stdout",
          "text": [
            "Drive already mounted at /content/drive; to attempt to forcibly remount, call drive.mount(\"/content/drive\", force_remount=True).\n",
            "All reviews saved to /content/drive/My Drive/All_Reviews_KihoonCrawlX_with_helpful_count.csv\n"
          ]
        }
      ]
    },
    {
      "cell_type": "code",
      "source": [],
      "metadata": {
        "id": "IPhgNm1FMdXu"
      },
      "execution_count": null,
      "outputs": []
    }
  ]
}